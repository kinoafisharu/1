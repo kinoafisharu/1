{
  "nbformat": 4,
  "nbformat_minor": 0,
  "metadata": {
    "colab": {
      "name": "Copy of Python. Введение. Домашнее задание Pro. Университет Искусственного Интеллекта.ipynb",
      "provenance": [],
      "collapsed_sections": [],
      "include_colab_link": true
    },
    "kernelspec": {
      "name": "python3",
      "display_name": "Python 3"
    }
  },
  "cells": [
    {
      "cell_type": "markdown",
      "metadata": {
        "id": "view-in-github",
        "colab_type": "text"
      },
      "source": [
        "<a href=\"https://colab.research.google.com/github/kinoafisharu/1/blob/master/Copy_of_Python_%D0%92%D0%B2%D0%B5%D0%B4%D0%B5%D0%BD%D0%B8%D0%B5_%D0%94%D0%BE%D0%BC%D0%B0%D1%88%D0%BD%D0%B5%D0%B5_%D0%B7%D0%B0%D0%B4%D0%B0%D0%BD%D0%B8%D0%B5_Pro_%D0%A3%D0%BD%D0%B8%D0%B2%D0%B5%D1%80%D1%81%D0%B8%D1%82%D0%B5%D1%82_%D0%98%D1%81%D0%BA%D1%83%D1%81%D1%81%D1%82%D0%B2%D0%B5%D0%BD%D0%BD%D0%BE%D0%B3%D0%BE_%D0%98%D0%BD%D1%82%D0%B5%D0%BB%D0%BB%D0%B5%D0%BA%D1%82%D0%B0.ipynb\" target=\"_parent\"><img src=\"https://colab.research.google.com/assets/colab-badge.svg\" alt=\"Open In Colab\"/></a>"
      ]
    },
    {
      "cell_type": "markdown",
      "metadata": {
        "id": "ATcX9c0hlWJV"
      },
      "source": [
        "## Задание 1\n"
      ]
    },
    {
      "cell_type": "markdown",
      "metadata": {
        "id": "-8XkwcmIlTur"
      },
      "source": [
        "**Условие:** \n",
        "Используя функцию print(), напишите **три инструкции** в рамках одной ячейки для **последовательного** вывода на разных строчках на экран Ваших Фамилии, Имени и Отчества(можно использовать выдуманные)"
      ]
    },
    {
      "cell_type": "markdown",
      "metadata": {
        "id": "VC4uNU8UlTut"
      },
      "source": [
        "**Решение:**"
      ]
    },
    {
      "cell_type": "code",
      "metadata": {
        "id": "EsPu1BSDlTuv",
        "colab": {
          "base_uri": "https://localhost:8080/"
        },
        "outputId": "4080a30b-932e-4db3-91b2-ff5db87e4ecd"
      },
      "source": [
        "print(\"Иванов\")\n",
        "print(\"Михаил\")\n",
        "print(\"Леонидович\")"
      ],
      "execution_count": null,
      "outputs": [
        {
          "output_type": "stream",
          "text": [
            "Иванов\n",
            "Михаил\n",
            "Леонидович\n"
          ],
          "name": "stdout"
        }
      ]
    }
  ]
}